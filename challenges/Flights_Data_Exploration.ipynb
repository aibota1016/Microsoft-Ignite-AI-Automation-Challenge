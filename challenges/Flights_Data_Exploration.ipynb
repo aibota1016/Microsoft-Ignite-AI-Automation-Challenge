{
  "nbformat": 4,
  "nbformat_minor": 0,
  "metadata": {
    "colab": {
      "provenance": []
    },
    "kernelspec": {
      "name": "python3",
      "display_name": "Python 3"
    },
    "language_info": {
      "name": "python"
    }
  },
  "cells": [
    {
      "cell_type": "code",
      "execution_count": null,
      "metadata": {
        "id": "vUBTmS9vzY82"
      },
      "outputs": [],
      "source": [
        "import pandas as pd\n",
        "import numpy as np\n",
        "from matplotlib import pyplot as plt"
      ]
    },
    {
      "cell_type": "code",
      "source": [
        "!wget https://raw.githubusercontent.com/MicrosoftDocs/ml-basics/ee7bccccf5dd1a95f9d547b2e9e5fd68f61fe02e/challenges/data/flights.csv"
      ],
      "metadata": {
        "colab": {
          "base_uri": "https://localhost:8080/"
        },
        "id": "BIRowZGizkru",
        "outputId": "eea40cc4-b311-445c-89be-ad9c2c155bcc"
      },
      "execution_count": null,
      "outputs": [
        {
          "output_type": "stream",
          "name": "stdout",
          "text": [
            "--2022-10-17 16:44:46--  https://raw.githubusercontent.com/MicrosoftDocs/ml-basics/ee7bccccf5dd1a95f9d547b2e9e5fd68f61fe02e/challenges/data/flights.csv\n",
            "Resolving raw.githubusercontent.com (raw.githubusercontent.com)... 185.199.108.133, 185.199.109.133, 185.199.110.133, ...\n",
            "Connecting to raw.githubusercontent.com (raw.githubusercontent.com)|185.199.108.133|:443... connected.\n",
            "HTTP request sent, awaiting response... 200 OK\n",
            "Length: 35862658 (34M) [text/plain]\n",
            "Saving to: ‘flights.csv’\n",
            "\n",
            "flights.csv         100%[===================>]  34.20M   187MB/s    in 0.2s    \n",
            "\n",
            "2022-10-17 16:44:47 (187 MB/s) - ‘flights.csv’ saved [35862658/35862658]\n",
            "\n"
          ]
        }
      ]
    },
    {
      "cell_type": "code",
      "source": [
        "df_flights = pd.read_csv('flights.csv')\n",
        "df_flights.head()"
      ],
      "metadata": {
        "colab": {
          "base_uri": "https://localhost:8080/",
          "height": 409
        },
        "id": "VCbOr4Fqz5LX",
        "outputId": "8b559f54-1267-4ca3-f461-f74f0d0bb142"
      },
      "execution_count": null,
      "outputs": [
        {
          "output_type": "execute_result",
          "data": {
            "text/plain": [
              "   Year  Month  DayofMonth  DayOfWeek Carrier  OriginAirportID  \\\n",
              "0  2013      9          16          1      DL            15304   \n",
              "1  2013      9          23          1      WN            14122   \n",
              "2  2013      9           7          6      AS            14747   \n",
              "3  2013      7          22          1      OO            13930   \n",
              "4  2013      5          16          4      DL            13931   \n",
              "\n",
              "              OriginAirportName  OriginCity OriginState  DestAirportID  \\\n",
              "0           Tampa International       Tampa          FL          12478   \n",
              "1      Pittsburgh International  Pittsburgh          PA          13232   \n",
              "2  Seattle/Tacoma International     Seattle          WA          11278   \n",
              "3  Chicago O'Hare International     Chicago          IL          11042   \n",
              "4         Norfolk International     Norfolk          VA          10397   \n",
              "\n",
              "                            DestAirportName    DestCity DestState  CRSDepTime  \\\n",
              "0             John F. Kennedy International    New York        NY        1539   \n",
              "1              Chicago Midway International     Chicago        IL         710   \n",
              "2         Ronald Reagan Washington National  Washington        DC         810   \n",
              "3           Cleveland-Hopkins International   Cleveland        OH         804   \n",
              "4  Hartsfield-Jackson Atlanta International     Atlanta        GA         545   \n",
              "\n",
              "   DepDelay  DepDel15  CRSArrTime  ArrDelay  ArrDel15  Cancelled  \n",
              "0         4       0.0        1824        13         0          0  \n",
              "1         3       0.0         740        22         1          0  \n",
              "2        -3       0.0        1614        -7         0          0  \n",
              "3        35       1.0        1027        33         1          0  \n",
              "4        -1       0.0         728        -9         0          0  "
            ],
            "text/html": [
              "\n",
              "  <div id=\"df-6b09b4fc-db6f-43bd-9c82-14bb042563b9\">\n",
              "    <div class=\"colab-df-container\">\n",
              "      <div>\n",
              "<style scoped>\n",
              "    .dataframe tbody tr th:only-of-type {\n",
              "        vertical-align: middle;\n",
              "    }\n",
              "\n",
              "    .dataframe tbody tr th {\n",
              "        vertical-align: top;\n",
              "    }\n",
              "\n",
              "    .dataframe thead th {\n",
              "        text-align: right;\n",
              "    }\n",
              "</style>\n",
              "<table border=\"1\" class=\"dataframe\">\n",
              "  <thead>\n",
              "    <tr style=\"text-align: right;\">\n",
              "      <th></th>\n",
              "      <th>Year</th>\n",
              "      <th>Month</th>\n",
              "      <th>DayofMonth</th>\n",
              "      <th>DayOfWeek</th>\n",
              "      <th>Carrier</th>\n",
              "      <th>OriginAirportID</th>\n",
              "      <th>OriginAirportName</th>\n",
              "      <th>OriginCity</th>\n",
              "      <th>OriginState</th>\n",
              "      <th>DestAirportID</th>\n",
              "      <th>DestAirportName</th>\n",
              "      <th>DestCity</th>\n",
              "      <th>DestState</th>\n",
              "      <th>CRSDepTime</th>\n",
              "      <th>DepDelay</th>\n",
              "      <th>DepDel15</th>\n",
              "      <th>CRSArrTime</th>\n",
              "      <th>ArrDelay</th>\n",
              "      <th>ArrDel15</th>\n",
              "      <th>Cancelled</th>\n",
              "    </tr>\n",
              "  </thead>\n",
              "  <tbody>\n",
              "    <tr>\n",
              "      <th>0</th>\n",
              "      <td>2013</td>\n",
              "      <td>9</td>\n",
              "      <td>16</td>\n",
              "      <td>1</td>\n",
              "      <td>DL</td>\n",
              "      <td>15304</td>\n",
              "      <td>Tampa International</td>\n",
              "      <td>Tampa</td>\n",
              "      <td>FL</td>\n",
              "      <td>12478</td>\n",
              "      <td>John F. Kennedy International</td>\n",
              "      <td>New York</td>\n",
              "      <td>NY</td>\n",
              "      <td>1539</td>\n",
              "      <td>4</td>\n",
              "      <td>0.0</td>\n",
              "      <td>1824</td>\n",
              "      <td>13</td>\n",
              "      <td>0</td>\n",
              "      <td>0</td>\n",
              "    </tr>\n",
              "    <tr>\n",
              "      <th>1</th>\n",
              "      <td>2013</td>\n",
              "      <td>9</td>\n",
              "      <td>23</td>\n",
              "      <td>1</td>\n",
              "      <td>WN</td>\n",
              "      <td>14122</td>\n",
              "      <td>Pittsburgh International</td>\n",
              "      <td>Pittsburgh</td>\n",
              "      <td>PA</td>\n",
              "      <td>13232</td>\n",
              "      <td>Chicago Midway International</td>\n",
              "      <td>Chicago</td>\n",
              "      <td>IL</td>\n",
              "      <td>710</td>\n",
              "      <td>3</td>\n",
              "      <td>0.0</td>\n",
              "      <td>740</td>\n",
              "      <td>22</td>\n",
              "      <td>1</td>\n",
              "      <td>0</td>\n",
              "    </tr>\n",
              "    <tr>\n",
              "      <th>2</th>\n",
              "      <td>2013</td>\n",
              "      <td>9</td>\n",
              "      <td>7</td>\n",
              "      <td>6</td>\n",
              "      <td>AS</td>\n",
              "      <td>14747</td>\n",
              "      <td>Seattle/Tacoma International</td>\n",
              "      <td>Seattle</td>\n",
              "      <td>WA</td>\n",
              "      <td>11278</td>\n",
              "      <td>Ronald Reagan Washington National</td>\n",
              "      <td>Washington</td>\n",
              "      <td>DC</td>\n",
              "      <td>810</td>\n",
              "      <td>-3</td>\n",
              "      <td>0.0</td>\n",
              "      <td>1614</td>\n",
              "      <td>-7</td>\n",
              "      <td>0</td>\n",
              "      <td>0</td>\n",
              "    </tr>\n",
              "    <tr>\n",
              "      <th>3</th>\n",
              "      <td>2013</td>\n",
              "      <td>7</td>\n",
              "      <td>22</td>\n",
              "      <td>1</td>\n",
              "      <td>OO</td>\n",
              "      <td>13930</td>\n",
              "      <td>Chicago O'Hare International</td>\n",
              "      <td>Chicago</td>\n",
              "      <td>IL</td>\n",
              "      <td>11042</td>\n",
              "      <td>Cleveland-Hopkins International</td>\n",
              "      <td>Cleveland</td>\n",
              "      <td>OH</td>\n",
              "      <td>804</td>\n",
              "      <td>35</td>\n",
              "      <td>1.0</td>\n",
              "      <td>1027</td>\n",
              "      <td>33</td>\n",
              "      <td>1</td>\n",
              "      <td>0</td>\n",
              "    </tr>\n",
              "    <tr>\n",
              "      <th>4</th>\n",
              "      <td>2013</td>\n",
              "      <td>5</td>\n",
              "      <td>16</td>\n",
              "      <td>4</td>\n",
              "      <td>DL</td>\n",
              "      <td>13931</td>\n",
              "      <td>Norfolk International</td>\n",
              "      <td>Norfolk</td>\n",
              "      <td>VA</td>\n",
              "      <td>10397</td>\n",
              "      <td>Hartsfield-Jackson Atlanta International</td>\n",
              "      <td>Atlanta</td>\n",
              "      <td>GA</td>\n",
              "      <td>545</td>\n",
              "      <td>-1</td>\n",
              "      <td>0.0</td>\n",
              "      <td>728</td>\n",
              "      <td>-9</td>\n",
              "      <td>0</td>\n",
              "      <td>0</td>\n",
              "    </tr>\n",
              "  </tbody>\n",
              "</table>\n",
              "</div>\n",
              "      <button class=\"colab-df-convert\" onclick=\"convertToInteractive('df-6b09b4fc-db6f-43bd-9c82-14bb042563b9')\"\n",
              "              title=\"Convert this dataframe to an interactive table.\"\n",
              "              style=\"display:none;\">\n",
              "        \n",
              "  <svg xmlns=\"http://www.w3.org/2000/svg\" height=\"24px\"viewBox=\"0 0 24 24\"\n",
              "       width=\"24px\">\n",
              "    <path d=\"M0 0h24v24H0V0z\" fill=\"none\"/>\n",
              "    <path d=\"M18.56 5.44l.94 2.06.94-2.06 2.06-.94-2.06-.94-.94-2.06-.94 2.06-2.06.94zm-11 1L8.5 8.5l.94-2.06 2.06-.94-2.06-.94L8.5 2.5l-.94 2.06-2.06.94zm10 10l.94 2.06.94-2.06 2.06-.94-2.06-.94-.94-2.06-.94 2.06-2.06.94z\"/><path d=\"M17.41 7.96l-1.37-1.37c-.4-.4-.92-.59-1.43-.59-.52 0-1.04.2-1.43.59L10.3 9.45l-7.72 7.72c-.78.78-.78 2.05 0 2.83L4 21.41c.39.39.9.59 1.41.59.51 0 1.02-.2 1.41-.59l7.78-7.78 2.81-2.81c.8-.78.8-2.07 0-2.86zM5.41 20L4 18.59l7.72-7.72 1.47 1.35L5.41 20z\"/>\n",
              "  </svg>\n",
              "      </button>\n",
              "      \n",
              "  <style>\n",
              "    .colab-df-container {\n",
              "      display:flex;\n",
              "      flex-wrap:wrap;\n",
              "      gap: 12px;\n",
              "    }\n",
              "\n",
              "    .colab-df-convert {\n",
              "      background-color: #E8F0FE;\n",
              "      border: none;\n",
              "      border-radius: 50%;\n",
              "      cursor: pointer;\n",
              "      display: none;\n",
              "      fill: #1967D2;\n",
              "      height: 32px;\n",
              "      padding: 0 0 0 0;\n",
              "      width: 32px;\n",
              "    }\n",
              "\n",
              "    .colab-df-convert:hover {\n",
              "      background-color: #E2EBFA;\n",
              "      box-shadow: 0px 1px 2px rgba(60, 64, 67, 0.3), 0px 1px 3px 1px rgba(60, 64, 67, 0.15);\n",
              "      fill: #174EA6;\n",
              "    }\n",
              "\n",
              "    [theme=dark] .colab-df-convert {\n",
              "      background-color: #3B4455;\n",
              "      fill: #D2E3FC;\n",
              "    }\n",
              "\n",
              "    [theme=dark] .colab-df-convert:hover {\n",
              "      background-color: #434B5C;\n",
              "      box-shadow: 0px 1px 3px 1px rgba(0, 0, 0, 0.15);\n",
              "      filter: drop-shadow(0px 1px 2px rgba(0, 0, 0, 0.3));\n",
              "      fill: #FFFFFF;\n",
              "    }\n",
              "  </style>\n",
              "\n",
              "      <script>\n",
              "        const buttonEl =\n",
              "          document.querySelector('#df-6b09b4fc-db6f-43bd-9c82-14bb042563b9 button.colab-df-convert');\n",
              "        buttonEl.style.display =\n",
              "          google.colab.kernel.accessAllowed ? 'block' : 'none';\n",
              "\n",
              "        async function convertToInteractive(key) {\n",
              "          const element = document.querySelector('#df-6b09b4fc-db6f-43bd-9c82-14bb042563b9');\n",
              "          const dataTable =\n",
              "            await google.colab.kernel.invokeFunction('convertToInteractive',\n",
              "                                                     [key], {});\n",
              "          if (!dataTable) return;\n",
              "\n",
              "          const docLinkHtml = 'Like what you see? Visit the ' +\n",
              "            '<a target=\"_blank\" href=https://colab.research.google.com/notebooks/data_table.ipynb>data table notebook</a>'\n",
              "            + ' to learn more about interactive tables.';\n",
              "          element.innerHTML = '';\n",
              "          dataTable['output_type'] = 'display_data';\n",
              "          await google.colab.output.renderOutput(dataTable, element);\n",
              "          const docLink = document.createElement('div');\n",
              "          docLink.innerHTML = docLinkHtml;\n",
              "          element.appendChild(docLink);\n",
              "        }\n",
              "      </script>\n",
              "    </div>\n",
              "  </div>\n",
              "  "
            ]
          },
          "metadata": {},
          "execution_count": 3
        }
      ]
    },
    {
      "cell_type": "markdown",
      "source": [
        "Your challenge is to explore the flight data to analyze possible factors that affect delays in departure or arrival of a flight.\n",
        "\n",
        "1. Start by cleaning the data.\n",
        "\n",
        "  - Identify any null or missing data, and impute appropriate replacement values.\n",
        "  - Identify and eliminate any outliers in the DepDelay and ArrDelay columns.\n",
        "2. Explore the cleaned data.\n",
        "\n",
        "  - View summary statistics for the numeric fields in the dataset.\n",
        "  - Determine the distribution of the DepDelay and ArrDelay columns.\n",
        "  - Use statistics, aggregate functions, and visualizations to answer the following questions:\n",
        "  - What are the average (mean) departure and arrival delays?\n",
        "  - How do the carriers compare in terms of arrival delay performance?\n",
        "  - Is there a noticable difference in arrival delays for different days of the week?\n",
        "  - Which departure airport has the highest average departure delay?\n",
        "  - Do late departures tend to result in longer arrival delays than on-time departures?\n",
        "  - Which route (from origin airport to destination airport) has the most late arrivals?\n",
        "  - Which route has the highest average arrival delay?"
      ],
      "metadata": {
        "id": "IVB4pVmb0N3T"
      }
    },
    {
      "cell_type": "code",
      "source": [
        "#identify null values\n",
        "df_flights.isnull().sum()"
      ],
      "metadata": {
        "colab": {
          "base_uri": "https://localhost:8080/"
        },
        "id": "ad-XzVHy0JTI",
        "outputId": "2708e304-962e-4e83-d23e-16901dc531fa"
      },
      "execution_count": null,
      "outputs": [
        {
          "output_type": "execute_result",
          "data": {
            "text/plain": [
              "Year                    0\n",
              "Month                   0\n",
              "DayofMonth              0\n",
              "DayOfWeek               0\n",
              "Carrier                 0\n",
              "OriginAirportID         0\n",
              "OriginAirportName       0\n",
              "OriginCity              0\n",
              "OriginState             0\n",
              "DestAirportID           0\n",
              "DestAirportName         0\n",
              "DestCity                0\n",
              "DestState               0\n",
              "CRSDepTime              0\n",
              "DepDelay                0\n",
              "DepDel15             2761\n",
              "CRSArrTime              0\n",
              "ArrDelay                0\n",
              "ArrDel15                0\n",
              "Cancelled               0\n",
              "dtype: int64"
            ]
          },
          "metadata": {},
          "execution_count": 4
        }
      ]
    },
    {
      "cell_type": "code",
      "source": [
        "#handle missing values\n",
        "df_flights[df_flights.isnull().any(axis=1)].DepDelay.describe()"
      ],
      "metadata": {
        "colab": {
          "base_uri": "https://localhost:8080/"
        },
        "id": "3LuuhZxF2Rrg",
        "outputId": "8c7a7fc7-250e-4182-a4c0-d80f34aacc26"
      },
      "execution_count": null,
      "outputs": [
        {
          "output_type": "execute_result",
          "data": {
            "text/plain": [
              "count    2761.0\n",
              "mean        0.0\n",
              "std         0.0\n",
              "min         0.0\n",
              "25%         0.0\n",
              "50%         0.0\n",
              "75%         0.0\n",
              "max         0.0\n",
              "Name: DepDelay, dtype: float64"
            ]
          },
          "metadata": {},
          "execution_count": 5
        }
      ]
    },
    {
      "cell_type": "code",
      "source": [
        "#Departures are considered late if the delay is 15 minutes or more, \n",
        "#so it seems that none of these were actually late departures. \n",
        "#Let's replace the missing DepDel15 indicator with a 0 and confirm there are no more missing values.\n",
        "df_flights.DepDel15 = df_flights.DepDel15.fillna(0)\n",
        "df_flights.isnull().sum()"
      ],
      "metadata": {
        "colab": {
          "base_uri": "https://localhost:8080/"
        },
        "id": "gXLoNXCL5gul",
        "outputId": "088c5ba5-f3ef-4a67-9291-067a8c137adf"
      },
      "execution_count": null,
      "outputs": [
        {
          "output_type": "execute_result",
          "data": {
            "text/plain": [
              "Year                 0\n",
              "Month                0\n",
              "DayofMonth           0\n",
              "DayOfWeek            0\n",
              "Carrier              0\n",
              "OriginAirportID      0\n",
              "OriginAirportName    0\n",
              "OriginCity           0\n",
              "OriginState          0\n",
              "DestAirportID        0\n",
              "DestAirportName      0\n",
              "DestCity             0\n",
              "DestState            0\n",
              "CRSDepTime           0\n",
              "DepDelay             0\n",
              "DepDel15             0\n",
              "CRSArrTime           0\n",
              "ArrDelay             0\n",
              "ArrDel15             0\n",
              "Cancelled            0\n",
              "dtype: int64"
            ]
          },
          "metadata": {},
          "execution_count": 6
        }
      ]
    },
    {
      "cell_type": "code",
      "source": [
        "#identify outliers in the DepDelay and ArrDelay columns\n",
        "\n",
        "def show_distribution(data):\n",
        "  #for box plot\n",
        "  min = data.min()\n",
        "  max = data.max()\n",
        "  mean = data.mean()\n",
        "  median = data.median()\n",
        "  mode = data.mode()[0]\n",
        "  print(data.name,'\\nMinimum:{:.2f}\\nMean:{:.2f}\\nMedian:{:.2f}\\nMode:{:.2f}\\nMaximum:{:.2f}\\n'.format(min,\n",
        "                                                                                            mean, median, mode, max))\n",
        "  \n",
        "  fig, ax = plt.subplots(1,2, figsize = (16, 4))\n",
        "  fig.suptitle(data.name)\n",
        "  #histogram\n",
        "  ax[0].hist(data)\n",
        "  #add line indicators\n",
        "  ax[0].axvline(x=min, color='gray', linestyle='-', linewidth=2)\n",
        "  ax[0].axvline(x=max, color='gray', linestyle='-', linewidth=2)\n",
        "  ax[0].axvline(x=mean, color='red', linestyle='-', linewidth=2)\n",
        "  ax[0].axvline(x=median, color='yellow', linestyle='-', linewidth=2)\n",
        "  ax[0].axvline(x=mode, color='green', linestyle='-', linewidth=2)\n",
        "\n",
        "  #boxplot\n",
        "  ax[1].boxplot(data)\n",
        "\n",
        "  fig.show()\n",
        "\n",
        "\n",
        "show_distribution(df_flights['ArrDelay'])\n",
        "show_distribution(df_flights['DepDelay'])"
      ],
      "metadata": {
        "colab": {
          "base_uri": "https://localhost:8080/",
          "height": 814
        },
        "id": "jJYWq7OH25bu",
        "outputId": "ec271544-0371-4aaf-c6e6-bd0f5bde185b"
      },
      "execution_count": null,
      "outputs": [
        {
          "output_type": "stream",
          "name": "stdout",
          "text": [
            "ArrDelay \n",
            "Minimum:-75.00\n",
            "Mean:6.50\n",
            "Median:-3.00\n",
            "Mode:0.00\n",
            "Maximum:1440.00\n",
            "\n",
            "DepDelay \n",
            "Minimum:-63.00\n",
            "Mean:10.35\n",
            "Median:-1.00\n",
            "Mode:-3.00\n",
            "Maximum:1425.00\n",
            "\n"
          ]
        },
        {
          "output_type": "display_data",
          "data": {
            "text/plain": [
              "<Figure size 1152x288 with 2 Axes>"
            ],
            "image/png": "[encoded data removed]"
          },
          "metadata": {
            "needs_background": "light"
          }
        },
        {
          "output_type": "display_data",
          "data": {
            "text/plain": [
              "<Figure size 1152x288 with 2 Axes>"
            ],
            "image/png": "[encoded data removed]"
          },
          "metadata": {
            "needs_background": "light"
          }
        }
      ]
    },
    {
      "cell_type": "code",
      "source": [
        "#include only rows where the values for these fields are within the 1st and 90th percentile.\n",
        "Depdelay_q01 = df_flights['DepDelay'].quantile(0.01)\n",
        "Depdelay_q90 = df_flights['DepDelay'].quantile(0.90)\n",
        "df_flights = df_flights[df_flights['DepDelay'] > Depdelay_q01]\n",
        "df_flights = df_flights[df_flights['DepDelay'] < Depdelay_q90]\n",
        "\n",
        "ArrDelay_q01 = df_flights['ArrDelay'].quantile(0.01)\n",
        "ArrDelay_q90 = df_flights['ArrDelay'].quantile(0.90)\n",
        "df_flights = df_flights[df_flights['ArrDelay'] > ArrDelay_q01]\n",
        "df_flights = df_flights[df_flights['ArrDelay'] < ArrDelay_q90]"
      ],
      "metadata": {
        "id": "oey2FDN48vw8"
      },
      "execution_count": null,
      "outputs": []
    },
    {
      "cell_type": "code",
      "source": [
        "#View summary statistics for the numeric fields in the dataset.\n",
        "df_flights.describe()"
      ],
      "metadata": {
        "colab": {
          "base_uri": "https://localhost:8080/",
          "height": 364
        },
        "id": "JbERhUQ094hn",
        "outputId": "c431f8a6-0e67-4c50-f7a7-b7b15a1de1a7"
      },
      "execution_count": null,
      "outputs": [
        {
          "output_type": "execute_result",
          "data": {
            "text/plain": [
              "           Year          Month     DayofMonth      DayOfWeek  OriginAirportID  \\\n",
              "count  214500.0  214500.000000  214500.000000  214500.000000    214500.000000   \n",
              "mean     2013.0       7.027296      15.799389       3.904168     12755.329371   \n",
              "std         0.0       2.006267       8.853235       1.998344      1512.139480   \n",
              "min      2013.0       4.000000       1.000000       1.000000     10140.000000   \n",
              "25%      2013.0       5.000000       8.000000       2.000000     11292.000000   \n",
              "50%      2013.0       7.000000      16.000000       4.000000     12892.000000   \n",
              "75%      2013.0       9.000000      23.000000       6.000000     14100.000000   \n",
              "max      2013.0      10.000000      31.000000       7.000000     15376.000000   \n",
              "\n",
              "       DestAirportID     CRSDepTime       DepDelay       DepDel15  \\\n",
              "count  214500.000000  214500.000000  214500.000000  214500.000000   \n",
              "mean    12734.206438    1284.230942      -0.130452       0.057604   \n",
              "std      1506.103555     470.230018       7.260672       0.232993   \n",
              "min     10140.000000       1.000000     -11.000000       0.000000   \n",
              "25%     11292.000000     853.000000      -5.000000       0.000000   \n",
              "50%     12892.000000    1240.000000      -2.000000       0.000000   \n",
              "75%     14057.000000    1658.000000       2.000000       0.000000   \n",
              "max     15376.000000    2359.000000      36.000000       1.000000   \n",
              "\n",
              "          CRSArrTime       ArrDelay       ArrDel15      Cancelled  \n",
              "count  214500.000000  214500.000000  214500.000000  214500.000000  \n",
              "mean     1465.878522      -5.680522       0.032597       0.013305  \n",
              "std       487.646410      10.188473       0.177579       0.114579  \n",
              "min         1.000000     -32.000000       0.000000       0.000000  \n",
              "25%      1055.000000     -13.000000       0.000000       0.000000  \n",
              "50%      1448.000000      -6.000000       0.000000       0.000000  \n",
              "75%      1850.000000       1.000000       0.000000       0.000000  \n",
              "max      2359.000000      16.000000       1.000000       1.000000  "
            ],
            "text/html": [
              "\n",
              "  <div id=\"df-926eb7d2-2c3d-4e05-b3e4-d5d79febb861\">\n",
              "    <div class=\"colab-df-container\">\n",
              "      <div>\n",
              "<style scoped>\n",
              "    .dataframe tbody tr th:only-of-type {\n",
              "        vertical-align: middle;\n",
              "    }\n",
              "\n",
              "    .dataframe tbody tr th {\n",
              "        vertical-align: top;\n",
              "    }\n",
              "\n",
              "    .dataframe thead th {\n",
              "        text-align: right;\n",
              "    }\n",
              "</style>\n",
              "<table border=\"1\" class=\"dataframe\">\n",
              "  <thead>\n",
              "    <tr style=\"text-align: right;\">\n",
              "      <th></th>\n",
              "      <th>Year</th>\n",
              "      <th>Month</th>\n",
              "      <th>DayofMonth</th>\n",
              "      <th>DayOfWeek</th>\n",
              "      <th>OriginAirportID</th>\n",
              "      <th>DestAirportID</th>\n",
              "      <th>CRSDepTime</th>\n",
              "      <th>DepDelay</th>\n",
              "      <th>DepDel15</th>\n",
              "      <th>CRSArrTime</th>\n",
              "      <th>ArrDelay</th>\n",
              "      <th>ArrDel15</th>\n",
              "      <th>Cancelled</th>\n",
              "    </tr>\n",
              "  </thead>\n",
              "  <tbody>\n",
              "    <tr>\n",
              "      <th>count</th>\n",
              "      <td>214500.0</td>\n",
              "      <td>214500.000000</td>\n",
              "      <td>214500.000000</td>\n",
              "      <td>214500.000000</td>\n",
              "      <td>214500.000000</td>\n",
              "      <td>214500.000000</td>\n",
              "      <td>214500.000000</td>\n",
              "      <td>214500.000000</td>\n",
              "      <td>214500.000000</td>\n",
              "      <td>214500.000000</td>\n",
              "      <td>214500.000000</td>\n",
              "      <td>214500.000000</td>\n",
              "      <td>214500.000000</td>\n",
              "    </tr>\n",
              "    <tr>\n",
              "      <th>mean</th>\n",
              "      <td>2013.0</td>\n",
              "      <td>7.027296</td>\n",
              "      <td>15.799389</td>\n",
              "      <td>3.904168</td>\n",
              "      <td>12755.329371</td>\n",
              "      <td>12734.206438</td>\n",
              "      <td>1284.230942</td>\n",
              "      <td>-0.130452</td>\n",
              "      <td>0.057604</td>\n",
              "      <td>1465.878522</td>\n",
              "      <td>-5.680522</td>\n",
              "      <td>0.032597</td>\n",
              "      <td>0.013305</td>\n",
              "    </tr>\n",
              "    <tr>\n",
              "      <th>std</th>\n",
              "      <td>0.0</td>\n",
              "      <td>2.006267</td>\n",
              "      <td>8.853235</td>\n",
              "      <td>1.998344</td>\n",
              "      <td>1512.139480</td>\n",
              "      <td>1506.103555</td>\n",
              "      <td>470.230018</td>\n",
              "      <td>7.260672</td>\n",
              "      <td>0.232993</td>\n",
              "      <td>487.646410</td>\n",
              "      <td>10.188473</td>\n",
              "      <td>0.177579</td>\n",
              "      <td>0.114579</td>\n",
              "    </tr>\n",
              "    <tr>\n",
              "      <th>min</th>\n",
              "      <td>2013.0</td>\n",
              "      <td>4.000000</td>\n",
              "      <td>1.000000</td>\n",
              "      <td>1.000000</td>\n",
              "      <td>10140.000000</td>\n",
              "      <td>10140.000000</td>\n",
              "      <td>1.000000</td>\n",
              "      <td>-11.000000</td>\n",
              "      <td>0.000000</td>\n",
              "      <td>1.000000</td>\n",
              "      <td>-32.000000</td>\n",
              "      <td>0.000000</td>\n",
              "      <td>0.000000</td>\n",
              "    </tr>\n",
              "    <tr>\n",
              "      <th>25%</th>\n",
              "      <td>2013.0</td>\n",
              "      <td>5.000000</td>\n",
              "      <td>8.000000</td>\n",
              "      <td>2.000000</td>\n",
              "      <td>11292.000000</td>\n",
              "      <td>11292.000000</td>\n",
              "      <td>853.000000</td>\n",
              "      <td>-5.000000</td>\n",
              "      <td>0.000000</td>\n",
              "      <td>1055.000000</td>\n",
              "      <td>-13.000000</td>\n",
              "      <td>0.000000</td>\n",
              "      <td>0.000000</td>\n",
              "    </tr>\n",
              "    <tr>\n",
              "      <th>50%</th>\n",
              "      <td>2013.0</td>\n",
              "      <td>7.000000</td>\n",
              "      <td>16.000000</td>\n",
              "      <td>4.000000</td>\n",
              "      <td>12892.000000</td>\n",
              "      <td>12892.000000</td>\n",
              "      <td>1240.000000</td>\n",
              "      <td>-2.000000</td>\n",
              "      <td>0.000000</td>\n",
              "      <td>1448.000000</td>\n",
              "      <td>-6.000000</td>\n",
              "      <td>0.000000</td>\n",
              "      <td>0.000000</td>\n",
              "    </tr>\n",
              "    <tr>\n",
              "      <th>75%</th>\n",
              "      <td>2013.0</td>\n",
              "      <td>9.000000</td>\n",
              "      <td>23.000000</td>\n",
              "      <td>6.000000</td>\n",
              "      <td>14100.000000</td>\n",
              "      <td>14057.000000</td>\n",
              "      <td>1658.000000</td>\n",
              "      <td>2.000000</td>\n",
              "      <td>0.000000</td>\n",
              "      <td>1850.000000</td>\n",
              "      <td>1.000000</td>\n",
              "      <td>0.000000</td>\n",
              "      <td>0.000000</td>\n",
              "    </tr>\n",
              "    <tr>\n",
              "      <th>max</th>\n",
              "      <td>2013.0</td>\n",
              "      <td>10.000000</td>\n",
              "      <td>31.000000</td>\n",
              "      <td>7.000000</td>\n",
              "      <td>15376.000000</td>\n",
              "      <td>15376.000000</td>\n",
              "      <td>2359.000000</td>\n",
              "      <td>36.000000</td>\n",
              "      <td>1.000000</td>\n",
              "      <td>2359.000000</td>\n",
              "      <td>16.000000</td>\n",
              "      <td>1.000000</td>\n",
              "      <td>1.000000</td>\n",
              "    </tr>\n",
              "  </tbody>\n",
              "</table>\n",
              "</div>\n",
              "      <button class=\"colab-df-convert\" onclick=\"convertToInteractive('df-926eb7d2-2c3d-4e05-b3e4-d5d79febb861')\"\n",
              "              title=\"Convert this dataframe to an interactive table.\"\n",
              "              style=\"display:none;\">\n",
              "        \n",
              "  <svg xmlns=\"http://www.w3.org/2000/svg\" height=\"24px\"viewBox=\"0 0 24 24\"\n",
              "       width=\"24px\">\n",
              "    <path d=\"M0 0h24v24H0V0z\" fill=\"none\"/>\n",
              "    <path d=\"M18.56 5.44l.94 2.06.94-2.06 2.06-.94-2.06-.94-.94-2.06-.94 2.06-2.06.94zm-11 1L8.5 8.5l.94-2.06 2.06-.94-2.06-.94L8.5 2.5l-.94 2.06-2.06.94zm10 10l.94 2.06.94-2.06 2.06-.94-2.06-.94-.94-2.06-.94 2.06-2.06.94z\"/><path d=\"M17.41 7.96l-1.37-1.37c-.4-.4-.92-.59-1.43-.59-.52 0-1.04.2-1.43.59L10.3 9.45l-7.72 7.72c-.78.78-.78 2.05 0 2.83L4 21.41c.39.39.9.59 1.41.59.51 0 1.02-.2 1.41-.59l7.78-7.78 2.81-2.81c.8-.78.8-2.07 0-2.86zM5.41 20L4 18.59l7.72-7.72 1.47 1.35L5.41 20z\"/>\n",
              "  </svg>\n",
              "      </button>\n",
              "      \n",
              "  <style>\n",
              "    .colab-df-container {\n",
              "      display:flex;\n",
              "      flex-wrap:wrap;\n",
              "      gap: 12px;\n",
              "    }\n",
              "\n",
              "    .colab-df-convert {\n",
              "      background-color: #E8F0FE;\n",
              "      border: none;\n",
              "      border-radius: 50%;\n",
              "      cursor: pointer;\n",
              "      display: none;\n",
              "      fill: #1967D2;\n",
              "      height: 32px;\n",
              "      padding: 0 0 0 0;\n",
              "      width: 32px;\n",
              "    }\n",
              "\n",
              "    .colab-df-convert:hover {\n",
              "      background-color: #E2EBFA;\n",
              "      box-shadow: 0px 1px 2px rgba(60, 64, 67, 0.3), 0px 1px 3px 1px rgba(60, 64, 67, 0.15);\n",
              "      fill: #174EA6;\n",
              "    }\n",
              "\n",
              "    [theme=dark] .colab-df-convert {\n",
              "      background-color: #3B4455;\n",
              "      fill: #D2E3FC;\n",
              "    }\n",
              "\n",
              "    [theme=dark] .colab-df-convert:hover {\n",
              "      background-color: #434B5C;\n",
              "      box-shadow: 0px 1px 3px 1px rgba(0, 0, 0, 0.15);\n",
              "      filter: drop-shadow(0px 1px 2px rgba(0, 0, 0, 0.3));\n",
              "      fill: #FFFFFF;\n",
              "    }\n",
              "  </style>\n",
              "\n",
              "      <script>\n",
              "        const buttonEl =\n",
              "          document.querySelector('#df-926eb7d2-2c3d-4e05-b3e4-d5d79febb861 button.colab-df-convert');\n",
              "        buttonEl.style.display =\n",
              "          google.colab.kernel.accessAllowed ? 'block' : 'none';\n",
              "\n",
              "        async function convertToInteractive(key) {\n",
              "          const element = document.querySelector('#df-926eb7d2-2c3d-4e05-b3e4-d5d79febb861');\n",
              "          const dataTable =\n",
              "            await google.colab.kernel.invokeFunction('convertToInteractive',\n",
              "                                                     [key], {});\n",
              "          if (!dataTable) return;\n",
              "\n",
              "          const docLinkHtml = 'Like what you see? Visit the ' +\n",
              "            '<a target=\"_blank\" href=https://colab.research.google.com/notebooks/data_table.ipynb>data table notebook</a>'\n",
              "            + ' to learn more about interactive tables.';\n",
              "          element.innerHTML = '';\n",
              "          dataTable['output_type'] = 'display_data';\n",
              "          await google.colab.output.renderOutput(dataTable, element);\n",
              "          const docLink = document.createElement('div');\n",
              "          docLink.innerHTML = docLinkHtml;\n",
              "          element.appendChild(docLink);\n",
              "        }\n",
              "      </script>\n",
              "    </div>\n",
              "  </div>\n",
              "  "
            ]
          },
          "metadata": {},
          "execution_count": 9
        }
      ]
    },
    {
      "cell_type": "code",
      "source": [
        "#Determine the distribution of the DepDelay and ArrDelay columns.\n",
        "show_distribution(df_flights['ArrDelay'])\n",
        "show_distribution(df_flights['DepDelay'])"
      ],
      "metadata": {
        "colab": {
          "base_uri": "https://localhost:8080/",
          "height": 814
        },
        "id": "Xj2Q2A6MuWFA",
        "outputId": "19e5f44a-e013-4f31-dc20-2fdae090d16e"
      },
      "execution_count": null,
      "outputs": [
        {
          "output_type": "stream",
          "name": "stdout",
          "text": [
            "ArrDelay \n",
            "Minimum:-32.00\n",
            "Mean:-5.68\n",
            "Median:-6.00\n",
            "Mode:0.00\n",
            "Maximum:16.00\n",
            "\n",
            "DepDelay \n",
            "Minimum:-11.00\n",
            "Mean:-0.13\n",
            "Median:-2.00\n",
            "Mode:-3.00\n",
            "Maximum:36.00\n",
            "\n"
          ]
        },
        {
          "output_type": "display_data",
          "data": {
            "text/plain": [
              "<Figure size 1152x288 with 2 Axes>"
            ],
            "image/png": "[encoded data removed]"
          },
          "metadata": {
            "needs_background": "light"
          }
        },
        {
          "output_type": "display_data",
          "data": {
            "text/plain": [
              "<Figure size 1152x288 with 2 Axes>"
            ],
            "image/png": "[encoded data removed]"
          },
          "metadata": {
            "needs_background": "light"
          }
        }
      ]
    },
    {
      "cell_type": "code",
      "source": [
        "#What are the average (mean) departure and arrival delays?\n",
        "print(\"Average (mean) departure delay: \", df_flights.DepDelay.mean())\n",
        "print(\"Average (mean) arrival delay: \", df_flights.ArrDelay.mean())"
      ],
      "metadata": {
        "colab": {
          "base_uri": "https://localhost:8080/"
        },
        "id": "N263cOs61349",
        "outputId": "7cec6547-92a1-42d6-ade1-98c1e6c2b26c"
      },
      "execution_count": null,
      "outputs": [
        {
          "output_type": "stream",
          "name": "stdout",
          "text": [
            "Average (mean) departure delay:  -0.13045221445221444\n",
            "Average (mean) arrival delay:  -5.680522144522144\n"
          ]
        }
      ]
    },
    {
      "cell_type": "code",
      "source": [
        "#How do the carriers compare in terms of arrival delay performance?\n",
        "df_flights.boxplot(column='ArrDelay', by='Carrier',figsize=(8,8))"
      ],
      "metadata": {
        "colab": {
          "base_uri": "https://localhost:8080/",
          "height": 612
        },
        "id": "mSFt7-ZP2Wey",
        "outputId": "276b15a5-8558-44ed-9d51-ff32b0f12b4e"
      },
      "execution_count": null,
      "outputs": [
        {
          "output_type": "stream",
          "name": "stderr",
          "text": [
            "/usr/local/lib/python3.7/dist-packages/matplotlib/cbook/__init__.py:1376: VisibleDeprecationWarning: Creating an ndarray from ragged nested sequences (which is a list-or-tuple of lists-or-tuples-or ndarrays with different lengths or shapes) is deprecated. If you meant to do this, you must specify 'dtype=object' when creating the ndarray.\n",
            "  X = np.atleast_1d(X.T if isinstance(X, np.ndarray) else np.asarray(X))\n"
          ]
        },
        {
          "output_type": "execute_result",
          "data": {
            "text/plain": [
              "<matplotlib.axes._subplots.AxesSubplot at 0x7f84a7407750>"
            ]
          },
          "metadata": {},
          "execution_count": 23
        },
        {
          "output_type": "display_data",
          "data": {
            "text/plain": [
              "<Figure size 576x576 with 1 Axes>"
            ],
            "image/png": "[encoded data removed]"
          },
          "metadata": {
            "needs_background": "light"
          }
        }
      ]
    },
    {
      "cell_type": "code",
      "source": [
        "#Is there a noticable difference in arrival delays for different days of the week?\n",
        "df_flights.boxplot(column='ArrDelay', by='DayOfWeek',figsize=(8,8))"
      ],
      "metadata": {
        "colab": {
          "base_uri": "https://localhost:8080/",
          "height": 612
        },
        "id": "aXFWs5ob411H",
        "outputId": "a2e23dd9-3b52-42f5-d9c1-9e9ab0d1559c"
      },
      "execution_count": null,
      "outputs": [
        {
          "output_type": "stream",
          "name": "stderr",
          "text": [
            "/usr/local/lib/python3.7/dist-packages/matplotlib/cbook/__init__.py:1376: VisibleDeprecationWarning: Creating an ndarray from ragged nested sequences (which is a list-or-tuple of lists-or-tuples-or ndarrays with different lengths or shapes) is deprecated. If you meant to do this, you must specify 'dtype=object' when creating the ndarray.\n",
            "  X = np.atleast_1d(X.T if isinstance(X, np.ndarray) else np.asarray(X))\n"
          ]
        },
        {
          "output_type": "execute_result",
          "data": {
            "text/plain": [
              "<matplotlib.axes._subplots.AxesSubplot at 0x7f84a604f8d0>"
            ]
          },
          "metadata": {},
          "execution_count": 28
        },
        {
          "output_type": "display_data",
          "data": {
            "text/plain": [
              "<Figure size 576x576 with 1 Axes>"
            ],
            "image/png": "[encoded data removed]"
          },
          "metadata": {
            "needs_background": "light"
          }
        }
      ]
    },
    {
      "cell_type": "code",
      "source": [
        "#Which departure airport has the highest average departure delay?\n",
        "grouped = df_flights.groupby(df_flights.OriginAirportName)\n",
        "pd.DataFrame(grouped['DepDelay'].mean()).sort_values('DepDelay', ascending=False)"
      ],
      "metadata": {
        "colab": {
          "base_uri": "https://localhost:8080/",
          "height": 455
        },
        "id": "4haqvRbs5VHm",
        "outputId": "21b7f692-92e6-4e64-ea12-1a9c379a1e0f"
      },
      "execution_count": null,
      "outputs": [
        {
          "output_type": "execute_result",
          "data": {
            "text/plain": [
              "                                                    DepDelay\n",
              "OriginAirportName                                           \n",
              "Chicago Midway International                        3.865294\n",
              "Dallas Love Field                                   3.039141\n",
              "William P Hobby                                     2.706247\n",
              "Denver International                                1.863804\n",
              "Baltimore/Washington International Thurgood Mar...  1.805401\n",
              "...                                                      ...\n",
              "Tucson International                               -2.522114\n",
              "Richmond International                             -2.665944\n",
              "Ted Stevens Anchorage International                -2.886700\n",
              "Kahului Airport                                    -2.905252\n",
              "Long Beach Airport                                 -3.349229\n",
              "\n",
              "[70 rows x 1 columns]"
            ],
            "text/html": [
              "\n",
              "  <div id=\"df-65258074-24b3-4373-94f2-2d22751cb56a\">\n",
              "    <div class=\"colab-df-container\">\n",
              "      <div>\n",
              "<style scoped>\n",
              "    .dataframe tbody tr th:only-of-type {\n",
              "        vertical-align: middle;\n",
              "    }\n",
              "\n",
              "    .dataframe tbody tr th {\n",
              "        vertical-align: top;\n",
              "    }\n",
              "\n",
              "    .dataframe thead th {\n",
              "        text-align: right;\n",
              "    }\n",
              "</style>\n",
              "<table border=\"1\" class=\"dataframe\">\n",
              "  <thead>\n",
              "    <tr style=\"text-align: right;\">\n",
              "      <th></th>\n",
              "      <th>DepDelay</th>\n",
              "    </tr>\n",
              "    <tr>\n",
              "      <th>OriginAirportName</th>\n",
              "      <th></th>\n",
              "    </tr>\n",
              "  </thead>\n",
              "  <tbody>\n",
              "    <tr>\n",
              "      <th>Chicago Midway International</th>\n",
              "      <td>3.865294</td>\n",
              "    </tr>\n",
              "    <tr>\n",
              "      <th>Dallas Love Field</th>\n",
              "      <td>3.039141</td>\n",
              "    </tr>\n",
              "    <tr>\n",
              "      <th>William P Hobby</th>\n",
              "      <td>2.706247</td>\n",
              "    </tr>\n",
              "    <tr>\n",
              "      <th>Denver International</th>\n",
              "      <td>1.863804</td>\n",
              "    </tr>\n",
              "    <tr>\n",
              "      <th>Baltimore/Washington International Thurgood Marshall</th>\n",
              "      <td>1.805401</td>\n",
              "    </tr>\n",
              "    <tr>\n",
              "      <th>...</th>\n",
              "      <td>...</td>\n",
              "    </tr>\n",
              "    <tr>\n",
              "      <th>Tucson International</th>\n",
              "      <td>-2.522114</td>\n",
              "    </tr>\n",
              "    <tr>\n",
              "      <th>Richmond International</th>\n",
              "      <td>-2.665944</td>\n",
              "    </tr>\n",
              "    <tr>\n",
              "      <th>Ted Stevens Anchorage International</th>\n",
              "      <td>-2.886700</td>\n",
              "    </tr>\n",
              "    <tr>\n",
              "      <th>Kahului Airport</th>\n",
              "      <td>-2.905252</td>\n",
              "    </tr>\n",
              "    <tr>\n",
              "      <th>Long Beach Airport</th>\n",
              "      <td>-3.349229</td>\n",
              "    </tr>\n",
              "  </tbody>\n",
              "</table>\n",
              "<p>70 rows × 1 columns</p>\n",
              "</div>\n",
              "      <button class=\"colab-df-convert\" onclick=\"convertToInteractive('df-65258074-24b3-4373-94f2-2d22751cb56a')\"\n",
              "              title=\"Convert this dataframe to an interactive table.\"\n",
              "              style=\"display:none;\">\n",
              "        \n",
              "  <svg xmlns=\"http://www.w3.org/2000/svg\" height=\"24px\"viewBox=\"0 0 24 24\"\n",
              "       width=\"24px\">\n",
              "    <path d=\"M0 0h24v24H0V0z\" fill=\"none\"/>\n",
              "    <path d=\"M18.56 5.44l.94 2.06.94-2.06 2.06-.94-2.06-.94-.94-2.06-.94 2.06-2.06.94zm-11 1L8.5 8.5l.94-2.06 2.06-.94-2.06-.94L8.5 2.5l-.94 2.06-2.06.94zm10 10l.94 2.06.94-2.06 2.06-.94-2.06-.94-.94-2.06-.94 2.06-2.06.94z\"/><path d=\"M17.41 7.96l-1.37-1.37c-.4-.4-.92-.59-1.43-.59-.52 0-1.04.2-1.43.59L10.3 9.45l-7.72 7.72c-.78.78-.78 2.05 0 2.83L4 21.41c.39.39.9.59 1.41.59.51 0 1.02-.2 1.41-.59l7.78-7.78 2.81-2.81c.8-.78.8-2.07 0-2.86zM5.41 20L4 18.59l7.72-7.72 1.47 1.35L5.41 20z\"/>\n",
              "  </svg>\n",
              "      </button>\n",
              "      \n",
              "  <style>\n",
              "    .colab-df-container {\n",
              "      display:flex;\n",
              "      flex-wrap:wrap;\n",
              "      gap: 12px;\n",
              "    }\n",
              "\n",
              "    .colab-df-convert {\n",
              "      background-color: #E8F0FE;\n",
              "      border: none;\n",
              "      border-radius: 50%;\n",
              "      cursor: pointer;\n",
              "      display: none;\n",
              "      fill: #1967D2;\n",
              "      height: 32px;\n",
              "      padding: 0 0 0 0;\n",
              "      width: 32px;\n",
              "    }\n",
              "\n",
              "    .colab-df-convert:hover {\n",
              "      background-color: #E2EBFA;\n",
              "      box-shadow: 0px 1px 2px rgba(60, 64, 67, 0.3), 0px 1px 3px 1px rgba(60, 64, 67, 0.15);\n",
              "      fill: #174EA6;\n",
              "    }\n",
              "\n",
              "    [theme=dark] .colab-df-convert {\n",
              "      background-color: #3B4455;\n",
              "      fill: #D2E3FC;\n",
              "    }\n",
              "\n",
              "    [theme=dark] .colab-df-convert:hover {\n",
              "      background-color: #434B5C;\n",
              "      box-shadow: 0px 1px 3px 1px rgba(0, 0, 0, 0.15);\n",
              "      filter: drop-shadow(0px 1px 2px rgba(0, 0, 0, 0.3));\n",
              "      fill: #FFFFFF;\n",
              "    }\n",
              "  </style>\n",
              "\n",
              "      <script>\n",
              "        const buttonEl =\n",
              "          document.querySelector('#df-65258074-24b3-4373-94f2-2d22751cb56a button.colab-df-convert');\n",
              "        buttonEl.style.display =\n",
              "          google.colab.kernel.accessAllowed ? 'block' : 'none';\n",
              "\n",
              "        async function convertToInteractive(key) {\n",
              "          const element = document.querySelector('#df-65258074-24b3-4373-94f2-2d22751cb56a');\n",
              "          const dataTable =\n",
              "            await google.colab.kernel.invokeFunction('convertToInteractive',\n",
              "                                                     [key], {});\n",
              "          if (!dataTable) return;\n",
              "\n",
              "          const docLinkHtml = 'Like what you see? Visit the ' +\n",
              "            '<a target=\"_blank\" href=https://colab.research.google.com/notebooks/data_table.ipynb>data table notebook</a>'\n",
              "            + ' to learn more about interactive tables.';\n",
              "          element.innerHTML = '';\n",
              "          dataTable['output_type'] = 'display_data';\n",
              "          await google.colab.output.renderOutput(dataTable, element);\n",
              "          const docLink = document.createElement('div');\n",
              "          docLink.innerHTML = docLinkHtml;\n",
              "          element.appendChild(docLink);\n",
              "        }\n",
              "      </script>\n",
              "    </div>\n",
              "  </div>\n",
              "  "
            ]
          },
          "metadata": {},
          "execution_count": 38
        }
      ]
    },
    {
      "cell_type": "code",
      "source": [
        "#Do late departures tend to result in longer arrival delays than on-time departures?\n",
        "df_flights.boxplot(column='ArrDelay', by='DepDel15', figsize=(12,12))"
      ],
      "metadata": {
        "colab": {
          "base_uri": "https://localhost:8080/",
          "height": 851
        },
        "id": "xkPsAWiZ9C1q",
        "outputId": "7dd5b232-a321-4e95-bc64-f0a4c53d1a3d"
      },
      "execution_count": null,
      "outputs": [
        {
          "output_type": "stream",
          "name": "stderr",
          "text": [
            "/usr/local/lib/python3.7/dist-packages/matplotlib/cbook/__init__.py:1376: VisibleDeprecationWarning: Creating an ndarray from ragged nested sequences (which is a list-or-tuple of lists-or-tuples-or ndarrays with different lengths or shapes) is deprecated. If you meant to do this, you must specify 'dtype=object' when creating the ndarray.\n",
            "  X = np.atleast_1d(X.T if isinstance(X, np.ndarray) else np.asarray(X))\n"
          ]
        },
        {
          "output_type": "execute_result",
          "data": {
            "text/plain": [
              "<matplotlib.axes._subplots.AxesSubplot at 0x7f846ddb1890>"
            ]
          },
          "metadata": {},
          "execution_count": 40
        },
        {
          "output_type": "display_data",
          "data": {
            "text/plain": [
              "<Figure size 864x864 with 1 Axes>"
            ],
            "image/png": "[encoded data removed]"
          },
          "metadata": {
            "needs_background": "light"
          }
        }
      ]
    },
    {
      "cell_type": "code",
      "source": [
        "#Which route (from origin airport to destination airport) has the most late arrivals?\n",
        "# Add a routes column\n",
        "routes  = pd.Series(df_flights['OriginAirportName'] + ' > ' + df_flights['DestAirportName'])\n",
        "df_flights = pd.concat([df_flights, routes.rename(\"Route\")], axis=1)\n",
        "\n",
        "# Group by routes\n",
        "route_group = df_flights.groupby(df_flights.Route)\n",
        "pd.DataFrame(route_group['ArrDel15'].sum()).sort_values('ArrDel15', ascending=False)"
      ],
      "metadata": {
        "colab": {
          "base_uri": "https://localhost:8080/",
          "height": 455
        },
        "id": "xiNs6eI9AREW",
        "outputId": "e6987026-d06b-4765-8b39-864894498f3c"
      },
      "execution_count": null,
      "outputs": [
        {
          "output_type": "execute_result",
          "data": {
            "text/plain": [
              "                                                    ArrDel15\n",
              "Route                                                       \n",
              "San Francisco International > Los Angeles Inter...        67\n",
              "Los Angeles International > San Francisco Inter...        42\n",
              "Detroit Metro Wayne County > Chicago O'Hare Int...        29\n",
              "LaGuardia > Logan International                           29\n",
              "LaGuardia > Chicago O'Hare International                  27\n",
              "...                                                      ...\n",
              "Norman Y. Mineta San Jose International > Honol...         0\n",
              "Norman Y. Mineta San Jose International > Harts...         0\n",
              "Norman Y. Mineta San Jose International > Georg...         0\n",
              "Hartsfield-Jackson Atlanta International > Brad...         0\n",
              "Albuquerque International Sunport > Baltimore/W...         0\n",
              "\n",
              "[2479 rows x 1 columns]"
            ],
            "text/html": [
              "\n",
              "  <div id=\"df-74146868-4570-42b8-ad5a-77704a4c71e8\">\n",
              "    <div class=\"colab-df-container\">\n",
              "      <div>\n",
              "<style scoped>\n",
              "    .dataframe tbody tr th:only-of-type {\n",
              "        vertical-align: middle;\n",
              "    }\n",
              "\n",
              "    .dataframe tbody tr th {\n",
              "        vertical-align: top;\n",
              "    }\n",
              "\n",
              "    .dataframe thead th {\n",
              "        text-align: right;\n",
              "    }\n",
              "</style>\n",
              "<table border=\"1\" class=\"dataframe\">\n",
              "  <thead>\n",
              "    <tr style=\"text-align: right;\">\n",
              "      <th></th>\n",
              "      <th>ArrDel15</th>\n",
              "    </tr>\n",
              "    <tr>\n",
              "      <th>Route</th>\n",
              "      <th></th>\n",
              "    </tr>\n",
              "  </thead>\n",
              "  <tbody>\n",
              "    <tr>\n",
              "      <th>San Francisco International &gt; Los Angeles International</th>\n",
              "      <td>67</td>\n",
              "    </tr>\n",
              "    <tr>\n",
              "      <th>Los Angeles International &gt; San Francisco International</th>\n",
              "      <td>42</td>\n",
              "    </tr>\n",
              "    <tr>\n",
              "      <th>Detroit Metro Wayne County &gt; Chicago O'Hare International</th>\n",
              "      <td>29</td>\n",
              "    </tr>\n",
              "    <tr>\n",
              "      <th>LaGuardia &gt; Logan International</th>\n",
              "      <td>29</td>\n",
              "    </tr>\n",
              "    <tr>\n",
              "      <th>LaGuardia &gt; Chicago O'Hare International</th>\n",
              "      <td>27</td>\n",
              "    </tr>\n",
              "    <tr>\n",
              "      <th>...</th>\n",
              "      <td>...</td>\n",
              "    </tr>\n",
              "    <tr>\n",
              "      <th>Norman Y. Mineta San Jose International &gt; Honolulu International</th>\n",
              "      <td>0</td>\n",
              "    </tr>\n",
              "    <tr>\n",
              "      <th>Norman Y. Mineta San Jose International &gt; Hartsfield-Jackson Atlanta International</th>\n",
              "      <td>0</td>\n",
              "    </tr>\n",
              "    <tr>\n",
              "      <th>Norman Y. Mineta San Jose International &gt; George Bush Intercontinental/Houston</th>\n",
              "      <td>0</td>\n",
              "    </tr>\n",
              "    <tr>\n",
              "      <th>Hartsfield-Jackson Atlanta International &gt; Bradley International</th>\n",
              "      <td>0</td>\n",
              "    </tr>\n",
              "    <tr>\n",
              "      <th>Albuquerque International Sunport &gt; Baltimore/Washington International Thurgood Marshall</th>\n",
              "      <td>0</td>\n",
              "    </tr>\n",
              "  </tbody>\n",
              "</table>\n",
              "<p>2479 rows × 1 columns</p>\n",
              "</div>\n",
              "      <button class=\"colab-df-convert\" onclick=\"convertToInteractive('df-74146868-4570-42b8-ad5a-77704a4c71e8')\"\n",
              "              title=\"Convert this dataframe to an interactive table.\"\n",
              "              style=\"display:none;\">\n",
              "        \n",
              "  <svg xmlns=\"http://www.w3.org/2000/svg\" height=\"24px\"viewBox=\"0 0 24 24\"\n",
              "       width=\"24px\">\n",
              "    <path d=\"M0 0h24v24H0V0z\" fill=\"none\"/>\n",
              "    <path d=\"M18.56 5.44l.94 2.06.94-2.06 2.06-.94-2.06-.94-.94-2.06-.94 2.06-2.06.94zm-11 1L8.5 8.5l.94-2.06 2.06-.94-2.06-.94L8.5 2.5l-.94 2.06-2.06.94zm10 10l.94 2.06.94-2.06 2.06-.94-2.06-.94-.94-2.06-.94 2.06-2.06.94z\"/><path d=\"M17.41 7.96l-1.37-1.37c-.4-.4-.92-.59-1.43-.59-.52 0-1.04.2-1.43.59L10.3 9.45l-7.72 7.72c-.78.78-.78 2.05 0 2.83L4 21.41c.39.39.9.59 1.41.59.51 0 1.02-.2 1.41-.59l7.78-7.78 2.81-2.81c.8-.78.8-2.07 0-2.86zM5.41 20L4 18.59l7.72-7.72 1.47 1.35L5.41 20z\"/>\n",
              "  </svg>\n",
              "      </button>\n",
              "      \n",
              "  <style>\n",
              "    .colab-df-container {\n",
              "      display:flex;\n",
              "      flex-wrap:wrap;\n",
              "      gap: 12px;\n",
              "    }\n",
              "\n",
              "    .colab-df-convert {\n",
              "      background-color: #E8F0FE;\n",
              "      border: none;\n",
              "      border-radius: 50%;\n",
              "      cursor: pointer;\n",
              "      display: none;\n",
              "      fill: #1967D2;\n",
              "      height: 32px;\n",
              "      padding: 0 0 0 0;\n",
              "      width: 32px;\n",
              "    }\n",
              "\n",
              "    .colab-df-convert:hover {\n",
              "      background-color: #E2EBFA;\n",
              "      box-shadow: 0px 1px 2px rgba(60, 64, 67, 0.3), 0px 1px 3px 1px rgba(60, 64, 67, 0.15);\n",
              "      fill: #174EA6;\n",
              "    }\n",
              "\n",
              "    [theme=dark] .colab-df-convert {\n",
              "      background-color: #3B4455;\n",
              "      fill: #D2E3FC;\n",
              "    }\n",
              "\n",
              "    [theme=dark] .colab-df-convert:hover {\n",
              "      background-color: #434B5C;\n",
              "      box-shadow: 0px 1px 3px 1px rgba(0, 0, 0, 0.15);\n",
              "      filter: drop-shadow(0px 1px 2px rgba(0, 0, 0, 0.3));\n",
              "      fill: #FFFFFF;\n",
              "    }\n",
              "  </style>\n",
              "\n",
              "      <script>\n",
              "        const buttonEl =\n",
              "          document.querySelector('#df-74146868-4570-42b8-ad5a-77704a4c71e8 button.colab-df-convert');\n",
              "        buttonEl.style.display =\n",
              "          google.colab.kernel.accessAllowed ? 'block' : 'none';\n",
              "\n",
              "        async function convertToInteractive(key) {\n",
              "          const element = document.querySelector('#df-74146868-4570-42b8-ad5a-77704a4c71e8');\n",
              "          const dataTable =\n",
              "            await google.colab.kernel.invokeFunction('convertToInteractive',\n",
              "                                                     [key], {});\n",
              "          if (!dataTable) return;\n",
              "\n",
              "          const docLinkHtml = 'Like what you see? Visit the ' +\n",
              "            '<a target=\"_blank\" href=https://colab.research.google.com/notebooks/data_table.ipynb>data table notebook</a>'\n",
              "            + ' to learn more about interactive tables.';\n",
              "          element.innerHTML = '';\n",
              "          dataTable['output_type'] = 'display_data';\n",
              "          await google.colab.output.renderOutput(dataTable, element);\n",
              "          const docLink = document.createElement('div');\n",
              "          docLink.innerHTML = docLinkHtml;\n",
              "          element.appendChild(docLink);\n",
              "        }\n",
              "      </script>\n",
              "    </div>\n",
              "  </div>\n",
              "  "
            ]
          },
          "metadata": {},
          "execution_count": 41
        }
      ]
    },
    {
      "cell_type": "code",
      "source": [],
      "metadata": {
        "id": "b7EN8Dcf5Bf4"
      },
      "execution_count": null,
      "outputs": []
    }
  ]
}